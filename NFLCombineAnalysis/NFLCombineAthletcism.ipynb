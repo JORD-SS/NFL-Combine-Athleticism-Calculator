{
 "cells": [
  {
   "attachments": {},
   "cell_type": "markdown",
   "metadata": {},
   "source": [
    "NFL Combine Athleticism Calculator"
   ]
  },
  {
   "attachments": {},
   "cell_type": "markdown",
   "metadata": {},
   "source": [
    "Importing libraries"
   ]
  },
  {
   "cell_type": "code",
   "execution_count": 19,
   "metadata": {},
   "outputs": [],
   "source": [
    "import pandas as pd\n",
    "import numpy as np\n",
    "import matplotlib.pyplot as plt\n",
    "import seaborn as sns\n",
    "from scipy import stats"
   ]
  },
  {
   "attachments": {},
   "cell_type": "markdown",
   "metadata": {},
   "source": [
    "Reading in 2013-2022 NFL Combine Data"
   ]
  },
  {
   "cell_type": "code",
   "execution_count": 20,
   "metadata": {},
   "outputs": [],
   "source": [
    "combine_2013 = pd.read_csv('Datasets/2013_combine.csv')\n",
    "combine_2014 = pd.read_csv('Datasets/2014_combine.csv')\n",
    "combine_2015 = pd.read_csv('Datasets/2015_combine.csv')\n",
    "combine_2016 = pd.read_csv('Datasets/2016_combine.csv')\n",
    "combine_2017 = pd.read_csv('Datasets/2017_combine.csv')\n",
    "combine_2018 = pd.read_csv('Datasets/2018_combine.csv')\n",
    "combine_2019 = pd.read_csv('Datasets/2019_combine.csv')\n",
    "combine_2020 = pd.read_csv('Datasets/2020_combine.csv')\n",
    "combine_2021 = pd.read_csv('Datasets/2021_combine.csv')\n",
    "combine_2022 = pd.read_csv('Datasets/2022_combine.csv')"
   ]
  },
  {
   "attachments": {},
   "cell_type": "markdown",
   "metadata": {},
   "source": [
    "Combing Datasets"
   ]
  },
  {
   "cell_type": "code",
   "execution_count": 21,
   "metadata": {},
   "outputs": [
    {
     "data": {
      "text/html": [
       "<div>\n",
       "<style scoped>\n",
       "    .dataframe tbody tr th:only-of-type {\n",
       "        vertical-align: middle;\n",
       "    }\n",
       "\n",
       "    .dataframe tbody tr th {\n",
       "        vertical-align: top;\n",
       "    }\n",
       "\n",
       "    .dataframe thead th {\n",
       "        text-align: right;\n",
       "    }\n",
       "</style>\n",
       "<table border=\"1\" class=\"dataframe\">\n",
       "  <thead>\n",
       "    <tr style=\"text-align: right;\">\n",
       "      <th></th>\n",
       "      <th>Pos</th>\n",
       "      <th>School</th>\n",
       "      <th>Ht</th>\n",
       "      <th>Wt</th>\n",
       "      <th>40yd</th>\n",
       "      <th>Vertical</th>\n",
       "      <th>Bench</th>\n",
       "      <th>Broad Jump</th>\n",
       "      <th>3Cone</th>\n",
       "      <th>Shuttle</th>\n",
       "    </tr>\n",
       "    <tr>\n",
       "      <th>Player</th>\n",
       "      <th></th>\n",
       "      <th></th>\n",
       "      <th></th>\n",
       "      <th></th>\n",
       "      <th></th>\n",
       "      <th></th>\n",
       "      <th></th>\n",
       "      <th></th>\n",
       "      <th></th>\n",
       "      <th></th>\n",
       "    </tr>\n",
       "  </thead>\n",
       "  <tbody>\n",
       "    <tr>\n",
       "      <th>Jaquiski Tartt</th>\n",
       "      <td>S</td>\n",
       "      <td>Samford</td>\n",
       "      <td>6-1</td>\n",
       "      <td>221.0</td>\n",
       "      <td>4.53</td>\n",
       "      <td>NaN</td>\n",
       "      <td>NaN</td>\n",
       "      <td>124.0</td>\n",
       "      <td>NaN</td>\n",
       "      <td>NaN</td>\n",
       "    </tr>\n",
       "    <tr>\n",
       "      <th>Kain Colter</th>\n",
       "      <td>WR</td>\n",
       "      <td>Northwestern</td>\n",
       "      <td>5-10</td>\n",
       "      <td>198.0</td>\n",
       "      <td>4.71</td>\n",
       "      <td>NaN</td>\n",
       "      <td>NaN</td>\n",
       "      <td>NaN</td>\n",
       "      <td>NaN</td>\n",
       "      <td>NaN</td>\n",
       "    </tr>\n",
       "    <tr>\n",
       "      <th>Greg Dortch</th>\n",
       "      <td>WR</td>\n",
       "      <td>Wake Forest</td>\n",
       "      <td>5-7</td>\n",
       "      <td>173.0</td>\n",
       "      <td>NaN</td>\n",
       "      <td>NaN</td>\n",
       "      <td>NaN</td>\n",
       "      <td>NaN</td>\n",
       "      <td>NaN</td>\n",
       "      <td>NaN</td>\n",
       "    </tr>\n",
       "    <tr>\n",
       "      <th>Keith Kelsey</th>\n",
       "      <td>LB</td>\n",
       "      <td>Louisville</td>\n",
       "      <td>6-0</td>\n",
       "      <td>233.0</td>\n",
       "      <td>4.92</td>\n",
       "      <td>29.5</td>\n",
       "      <td>23.0</td>\n",
       "      <td>112.0</td>\n",
       "      <td>7.28</td>\n",
       "      <td>4.56</td>\n",
       "    </tr>\n",
       "    <tr>\n",
       "      <th>Jamaal Johnson-Webb</th>\n",
       "      <td>OG</td>\n",
       "      <td>Alabama A&amp;M</td>\n",
       "      <td>6-5</td>\n",
       "      <td>313.0</td>\n",
       "      <td>5.37</td>\n",
       "      <td>23.0</td>\n",
       "      <td>17.0</td>\n",
       "      <td>92.0</td>\n",
       "      <td>8.12</td>\n",
       "      <td>4.74</td>\n",
       "    </tr>\n",
       "  </tbody>\n",
       "</table>\n",
       "</div>"
      ],
      "text/plain": [
       "                    Pos        School    Ht     Wt  40yd  Vertical  Bench  \\\n",
       "Player                                                                      \n",
       "Jaquiski Tartt        S       Samford   6-1  221.0  4.53       NaN    NaN   \n",
       "Kain Colter          WR  Northwestern  5-10  198.0  4.71       NaN    NaN   \n",
       "Greg Dortch          WR   Wake Forest   5-7  173.0   NaN       NaN    NaN   \n",
       "Keith Kelsey         LB    Louisville   6-0  233.0  4.92      29.5   23.0   \n",
       "Jamaal Johnson-Webb  OG   Alabama A&M   6-5  313.0  5.37      23.0   17.0   \n",
       "\n",
       "                     Broad Jump  3Cone  Shuttle  \n",
       "Player                                           \n",
       "Jaquiski Tartt            124.0    NaN      NaN  \n",
       "Kain Colter                 NaN    NaN      NaN  \n",
       "Greg Dortch                 NaN    NaN      NaN  \n",
       "Keith Kelsey              112.0   7.28     4.56  \n",
       "Jamaal Johnson-Webb        92.0   8.12     4.74  "
      ]
     },
     "execution_count": 21,
     "metadata": {},
     "output_type": "execute_result"
    }
   ],
   "source": [
    "combine_datasets = [combine_2013, combine_2014, combine_2015, combine_2016,\n",
    "                    combine_2017, combine_2018, combine_2019, combine_2020, combine_2021, combine_2022]\n",
    "\n",
    "combine = pd.concat(\n",
    "    combine_datasets, ignore_index=True).sort_values([\"Pos\", \"Player\"])\n",
    "combine = combine.set_index(\"Player\")\n",
    "\n",
    "combine.sample(5)"
   ]
  },
  {
   "attachments": {},
   "cell_type": "markdown",
   "metadata": {},
   "source": [
    "Currently, all heights in the Datasets are strings structure as so: \"Feet-Inches\". Will change this by splitting the columns at the \"-\" character and multply height by 12 plus inches to get each player's height in inches."
   ]
  },
  {
   "cell_type": "code",
   "execution_count": 22,
   "metadata": {},
   "outputs": [
    {
     "data": {
      "text/plain": [
       "Player\n",
       "Jeremiah Gemmel    73.0\n",
       "Duke Dawson        70.0\n",
       "Dillon Radunz      77.0\n",
       "Darius Hodge       72.0\n",
       "Andre Hal          70.0\n",
       "Name: Ht, dtype: float64"
      ]
     },
     "execution_count": 22,
     "metadata": {},
     "output_type": "execute_result"
    }
   ],
   "source": [
    "heights = combine[\"Ht\"].str.split(pat=\"-\", expand=True)\n",
    "heights[[0, 1]] = heights[[0, 1]].apply(pd.to_numeric)\n",
    "combine[\"Ht\"] = (heights[0] * 12) + heights[1]\n",
    "\n",
    "combine[\"Ht\"].sample(5)"
   ]
  },
  {
   "attachments": {},
   "cell_type": "markdown",
   "metadata": {},
   "source": [
    "Will ask the user to enter the name of a Participant from the 2013-2022 NFL Combine they want to see the Athletcism Score of."
   ]
  },
  {
   "cell_type": "code",
   "execution_count": 23,
   "metadata": {},
   "outputs": [
    {
     "data": {
      "text/plain": [
       "Pos              WR\n",
       "School          LSU\n",
       "Ht             71.0\n",
       "Wt            198.0\n",
       "40yd           4.38\n",
       "Vertical       38.5\n",
       "Bench           7.0\n",
       "Broad Jump    122.0\n",
       "3Cone          6.69\n",
       "Shuttle        3.94\n",
       "Name: Odell Beckham Jr., dtype: object"
      ]
     },
     "execution_count": 23,
     "metadata": {},
     "output_type": "execute_result"
    }
   ],
   "source": [
    "def get_player(combine):\n",
    "    while True:\n",
    "        player = input(\"Enter a participant from the 2013-2022 NFL Combine: \")\n",
    "        if player not in combine.index:\n",
    "            print(\"Player is not in dataset, try someone else.\")\n",
    "        else:\n",
    "            return player\n",
    "\n",
    "player_name = get_player(combine)\n",
    "player_data = combine.loc[player_name]\n",
    "player_data\n"
   ]
  },
  {
   "attachments": {},
   "cell_type": "markdown",
   "metadata": {},
   "source": [
    "For our calculator, we will first calculate for each player the percentile their height, weight, 40 time, vertical jump, bench reps, broad jump, three cone time, and shuttle time fall into relative to their position group. We will then calculate the mean value of these percentiles, labelling it a \"raw score\". Lastly, we will take this raw score and find what percentile it is in relative to its position group. This final value will be the player's Athletic Score."
   ]
  },
  {
   "attachments": {},
   "cell_type": "markdown",
   "metadata": {},
   "source": [
    "To start, let's first filter out all players that are not in the player's position group. We are doing this because each position in Football require  different types of physiques and athleticism to play. For this reason it would not be accurate to compare these differing positions to eachother. To demonstrate this, let's view the mean testing for each position group to visualize how much different they are."
   ]
  },
  {
   "cell_type": "code",
   "execution_count": 24,
   "metadata": {},
   "outputs": [
    {
     "data": {
      "text/html": [
       "<div>\n",
       "<style scoped>\n",
       "    .dataframe tbody tr th:only-of-type {\n",
       "        vertical-align: middle;\n",
       "    }\n",
       "\n",
       "    .dataframe tbody tr th {\n",
       "        vertical-align: top;\n",
       "    }\n",
       "\n",
       "    .dataframe thead tr th {\n",
       "        text-align: left;\n",
       "    }\n",
       "\n",
       "    .dataframe thead tr:last-of-type th {\n",
       "        text-align: right;\n",
       "    }\n",
       "</style>\n",
       "<table border=\"1\" class=\"dataframe\">\n",
       "  <thead>\n",
       "    <tr>\n",
       "      <th></th>\n",
       "      <th colspan=\"8\" halign=\"left\">mean</th>\n",
       "    </tr>\n",
       "    <tr>\n",
       "      <th></th>\n",
       "      <th>3Cone</th>\n",
       "      <th>40yd</th>\n",
       "      <th>Bench</th>\n",
       "      <th>Broad Jump</th>\n",
       "      <th>Ht</th>\n",
       "      <th>Shuttle</th>\n",
       "      <th>Vertical</th>\n",
       "      <th>Wt</th>\n",
       "    </tr>\n",
       "    <tr>\n",
       "      <th>Pos</th>\n",
       "      <th></th>\n",
       "      <th></th>\n",
       "      <th></th>\n",
       "      <th></th>\n",
       "      <th></th>\n",
       "      <th></th>\n",
       "      <th></th>\n",
       "      <th></th>\n",
       "    </tr>\n",
       "  </thead>\n",
       "  <tbody>\n",
       "    <tr>\n",
       "      <th>C</th>\n",
       "      <td>7.713333</td>\n",
       "      <td>5.236184</td>\n",
       "      <td>24.909091</td>\n",
       "      <td>104.274194</td>\n",
       "      <td>75.415730</td>\n",
       "      <td>4.673103</td>\n",
       "      <td>27.914062</td>\n",
       "      <td>305.606742</td>\n",
       "    </tr>\n",
       "    <tr>\n",
       "      <th>CB</th>\n",
       "      <td>6.957857</td>\n",
       "      <td>4.500449</td>\n",
       "      <td>14.302932</td>\n",
       "      <td>123.522293</td>\n",
       "      <td>71.569682</td>\n",
       "      <td>4.202276</td>\n",
       "      <td>35.935938</td>\n",
       "      <td>193.435208</td>\n",
       "    </tr>\n",
       "    <tr>\n",
       "      <th>DE</th>\n",
       "      <td>7.259851</td>\n",
       "      <td>4.799088</td>\n",
       "      <td>23.193277</td>\n",
       "      <td>117.313953</td>\n",
       "      <td>75.717391</td>\n",
       "      <td>4.424320</td>\n",
       "      <td>33.197710</td>\n",
       "      <td>263.950311</td>\n",
       "    </tr>\n",
       "    <tr>\n",
       "      <th>DT</th>\n",
       "      <td>7.730064</td>\n",
       "      <td>5.110860</td>\n",
       "      <td>27.061111</td>\n",
       "      <td>105.644444</td>\n",
       "      <td>74.991803</td>\n",
       "      <td>4.683789</td>\n",
       "      <td>28.860215</td>\n",
       "      <td>308.060976</td>\n",
       "    </tr>\n",
       "    <tr>\n",
       "      <th>FB</th>\n",
       "      <td>7.279444</td>\n",
       "      <td>4.804167</td>\n",
       "      <td>24.142857</td>\n",
       "      <td>114.200000</td>\n",
       "      <td>72.520000</td>\n",
       "      <td>4.365000</td>\n",
       "      <td>32.775000</td>\n",
       "      <td>241.200000</td>\n",
       "    </tr>\n",
       "    <tr>\n",
       "      <th>K</th>\n",
       "      <td>NaN</td>\n",
       "      <td>4.894286</td>\n",
       "      <td>13.000000</td>\n",
       "      <td>113.500000</td>\n",
       "      <td>71.933333</td>\n",
       "      <td>NaN</td>\n",
       "      <td>33.500000</td>\n",
       "      <td>193.673913</td>\n",
       "    </tr>\n",
       "    <tr>\n",
       "      <th>LB</th>\n",
       "      <td>7.117853</td>\n",
       "      <td>4.699216</td>\n",
       "      <td>20.964706</td>\n",
       "      <td>119.178947</td>\n",
       "      <td>73.604457</td>\n",
       "      <td>4.319000</td>\n",
       "      <td>34.070652</td>\n",
       "      <td>238.459610</td>\n",
       "    </tr>\n",
       "    <tr>\n",
       "      <th>LS</th>\n",
       "      <td>7.470833</td>\n",
       "      <td>5.080625</td>\n",
       "      <td>18.000000</td>\n",
       "      <td>108.500000</td>\n",
       "      <td>73.882353</td>\n",
       "      <td>4.556667</td>\n",
       "      <td>29.233333</td>\n",
       "      <td>238.705882</td>\n",
       "    </tr>\n",
       "    <tr>\n",
       "      <th>OG</th>\n",
       "      <td>7.835362</td>\n",
       "      <td>5.256199</td>\n",
       "      <td>26.680556</td>\n",
       "      <td>102.877419</td>\n",
       "      <td>76.077720</td>\n",
       "      <td>4.790069</td>\n",
       "      <td>27.058442</td>\n",
       "      <td>314.902062</td>\n",
       "    </tr>\n",
       "    <tr>\n",
       "      <th>OT</th>\n",
       "      <td>7.823422</td>\n",
       "      <td>5.208718</td>\n",
       "      <td>23.979592</td>\n",
       "      <td>105.341232</td>\n",
       "      <td>77.587121</td>\n",
       "      <td>4.759746</td>\n",
       "      <td>28.055046</td>\n",
       "      <td>313.412879</td>\n",
       "    </tr>\n",
       "    <tr>\n",
       "      <th>P</th>\n",
       "      <td>7.155000</td>\n",
       "      <td>4.909048</td>\n",
       "      <td>17.428571</td>\n",
       "      <td>114.545455</td>\n",
       "      <td>74.393443</td>\n",
       "      <td>4.420000</td>\n",
       "      <td>31.384615</td>\n",
       "      <td>212.967213</td>\n",
       "    </tr>\n",
       "    <tr>\n",
       "      <th>QB</th>\n",
       "      <td>7.123730</td>\n",
       "      <td>4.817083</td>\n",
       "      <td>17.333333</td>\n",
       "      <td>112.705882</td>\n",
       "      <td>74.760479</td>\n",
       "      <td>4.343692</td>\n",
       "      <td>30.935252</td>\n",
       "      <td>221.646707</td>\n",
       "    </tr>\n",
       "    <tr>\n",
       "      <th>RB</th>\n",
       "      <td>7.078365</td>\n",
       "      <td>4.565260</td>\n",
       "      <td>18.812500</td>\n",
       "      <td>119.613383</td>\n",
       "      <td>70.272436</td>\n",
       "      <td>4.301361</td>\n",
       "      <td>34.175000</td>\n",
       "      <td>212.325879</td>\n",
       "    </tr>\n",
       "    <tr>\n",
       "      <th>S</th>\n",
       "      <td>6.971802</td>\n",
       "      <td>4.551531</td>\n",
       "      <td>16.627219</td>\n",
       "      <td>122.153005</td>\n",
       "      <td>72.212121</td>\n",
       "      <td>4.223966</td>\n",
       "      <td>35.445355</td>\n",
       "      <td>205.476190</td>\n",
       "    </tr>\n",
       "    <tr>\n",
       "      <th>TE</th>\n",
       "      <td>7.188800</td>\n",
       "      <td>4.756294</td>\n",
       "      <td>19.438356</td>\n",
       "      <td>116.979021</td>\n",
       "      <td>76.272727</td>\n",
       "      <td>4.397231</td>\n",
       "      <td>33.083333</td>\n",
       "      <td>251.040404</td>\n",
       "    </tr>\n",
       "    <tr>\n",
       "      <th>WR</th>\n",
       "      <td>6.995495</td>\n",
       "      <td>4.512851</td>\n",
       "      <td>14.023881</td>\n",
       "      <td>121.947368</td>\n",
       "      <td>72.777311</td>\n",
       "      <td>4.264390</td>\n",
       "      <td>35.153756</td>\n",
       "      <td>202.231092</td>\n",
       "    </tr>\n",
       "  </tbody>\n",
       "</table>\n",
       "</div>"
      ],
      "text/plain": [
       "         mean                                                        \\\n",
       "        3Cone      40yd      Bench  Broad Jump         Ht   Shuttle   \n",
       "Pos                                                                   \n",
       "C    7.713333  5.236184  24.909091  104.274194  75.415730  4.673103   \n",
       "CB   6.957857  4.500449  14.302932  123.522293  71.569682  4.202276   \n",
       "DE   7.259851  4.799088  23.193277  117.313953  75.717391  4.424320   \n",
       "DT   7.730064  5.110860  27.061111  105.644444  74.991803  4.683789   \n",
       "FB   7.279444  4.804167  24.142857  114.200000  72.520000  4.365000   \n",
       "K         NaN  4.894286  13.000000  113.500000  71.933333       NaN   \n",
       "LB   7.117853  4.699216  20.964706  119.178947  73.604457  4.319000   \n",
       "LS   7.470833  5.080625  18.000000  108.500000  73.882353  4.556667   \n",
       "OG   7.835362  5.256199  26.680556  102.877419  76.077720  4.790069   \n",
       "OT   7.823422  5.208718  23.979592  105.341232  77.587121  4.759746   \n",
       "P    7.155000  4.909048  17.428571  114.545455  74.393443  4.420000   \n",
       "QB   7.123730  4.817083  17.333333  112.705882  74.760479  4.343692   \n",
       "RB   7.078365  4.565260  18.812500  119.613383  70.272436  4.301361   \n",
       "S    6.971802  4.551531  16.627219  122.153005  72.212121  4.223966   \n",
       "TE   7.188800  4.756294  19.438356  116.979021  76.272727  4.397231   \n",
       "WR   6.995495  4.512851  14.023881  121.947368  72.777311  4.264390   \n",
       "\n",
       "                            \n",
       "      Vertical          Wt  \n",
       "Pos                         \n",
       "C    27.914062  305.606742  \n",
       "CB   35.935938  193.435208  \n",
       "DE   33.197710  263.950311  \n",
       "DT   28.860215  308.060976  \n",
       "FB   32.775000  241.200000  \n",
       "K    33.500000  193.673913  \n",
       "LB   34.070652  238.459610  \n",
       "LS   29.233333  238.705882  \n",
       "OG   27.058442  314.902062  \n",
       "OT   28.055046  313.412879  \n",
       "P    31.384615  212.967213  \n",
       "QB   30.935252  221.646707  \n",
       "RB   34.175000  212.325879  \n",
       "S    35.445355  205.476190  \n",
       "TE   33.083333  251.040404  \n",
       "WR   35.153756  202.231092  "
      ]
     },
     "execution_count": 24,
     "metadata": {},
     "output_type": "execute_result"
    }
   ],
   "source": [
    "combine[\"Pos\"] = combine[\"Pos\"].str.replace(pat=\"DB\", repl=\"CB\", regex=False)\n",
    "means_by_position = combine.pivot_table(values=[\"Ht\", \"Wt\", \"40yd\", \"Vertical\", \"Bench\", \"Broad Jump\", \"3Cone\", \"Shuttle\"], index=\"Pos\", aggfunc=[np.mean])\n",
    "means_by_position"
   ]
  },
  {
   "attachments": {},
   "cell_type": "markdown",
   "metadata": {},
   "source": [
    "Let's filter for only participants in the player's position group, and the mean for the position group."
   ]
  },
  {
   "cell_type": "code",
   "execution_count": 25,
   "metadata": {},
   "outputs": [],
   "source": [
    "pos_group_data = combine[combine[\"Pos\"] == player_data[\"Pos\"]]\n",
    "pos_group_mean = pos_group_data.loc[:, \"Ht\":\"Shuttle\"].mean().round(2)"
   ]
  },
  {
   "attachments": {},
   "cell_type": "markdown",
   "metadata": {},
   "source": [
    "Put all the measurements/performances into list."
   ]
  },
  {
   "cell_type": "code",
   "execution_count": 26,
   "metadata": {},
   "outputs": [],
   "source": [
    "heights = pos_group_data[\"Ht\"].dropna().to_numpy()\n",
    "weights = pos_group_data[\"Wt\"].dropna().to_numpy()\n",
    "fourtys = pos_group_data[\"40yd\"].dropna().to_numpy()\n",
    "verticals = pos_group_data[\"Vertical\"].dropna().to_numpy()\n",
    "bench_reps = pos_group_data[\"Bench\"].dropna().to_numpy()\n",
    "broad_jumps = pos_group_data[\"Broad Jump\"].dropna().to_numpy()\n",
    "three_cones = pos_group_data[\"3Cone\"].dropna().to_numpy()\n",
    "shuttle_times = pos_group_data[\"Shuttle\"].dropna().to_numpy()"
   ]
  },
  {
   "attachments": {},
   "cell_type": "markdown",
   "metadata": {},
   "source": [
    "Calculate percentiles each player's data is in relative to position group. Then will divide the percentiles into two scores: physical and drill Score. Physical score will be the mean of the  player's height and weight percentiles. Drill score will be the mean of the player's fourty, vertical, bench press, broad jump, three cone, shuttle percentiles. A player's drill score will automatically be 0 if they did not complete at least 2 drills."
   ]
  },
  {
   "cell_type": "code",
   "execution_count": 27,
   "metadata": {},
   "outputs": [],
   "source": [
    "pd.options.mode.chained_assignment = None\n",
    "\n",
    "pos_group_data[\"Ht Perc\"] = pos_group_data[\"Ht\"].map(\n",
    "    lambda x: stats.percentileofscore(heights, x))\n",
    "pos_group_data[\"Wt Perc\"] = pos_group_data[\"Wt\"].map(\n",
    "    lambda x: stats.percentileofscore(weights, x))\n",
    "pos_group_data[\"Fourty Perc\"] = pos_group_data[\"40yd\"].map(\n",
    "    lambda x: 100 - stats.percentileofscore(fourtys, x))\n",
    "pos_group_data[\"Vertical Perc\"] = pos_group_data[\"Vertical\"].map(\n",
    "    lambda x: stats.percentileofscore(verticals, x))\n",
    "pos_group_data[\"Bench Perc\"] = pos_group_data[\"Bench\"].map(\n",
    "    lambda x: stats.percentileofscore(bench_reps, x))\n",
    "pos_group_data[\"Broad Jump Perc\"] = pos_group_data[\"Broad Jump\"].map(\n",
    "    lambda x: stats.percentileofscore(broad_jumps, x))\n",
    "pos_group_data[\"3Cone Perc\"] = pos_group_data[\"3Cone\"].map(\n",
    "    lambda x: 100 - stats.percentileofscore(three_cones, x))\n",
    "pos_group_data[\"Shuttle Perc\"] = pos_group_data[\"Shuttle\"].map(\n",
    "    lambda x: 100 - stats.percentileofscore(shuttle_times, x))\n",
    "\n",
    "pos_group_data[\"Size Score\"] = pos_group_data.loc[:,\n",
    "                                                      [\"Ht Perc\",\"Wt Perc\", \"Bench\"]].apply(np.mean, axis=1)\n",
    "pos_group_data[\"Speed Score\"] = pos_group_data.loc[:,\n",
    "                                                   [\"Fourty Perc\"]].apply(np.mean, axis=1)\n",
    "pos_group_data[\"Explosive Score\"] = pos_group_data.loc[:,\n",
    "                                                   [\"Broad Jump Perc\", \"Vertical Perc\"]].apply(np.mean, axis=1)\n",
    "pos_group_data[\"Agility Score\"] = pos_group_data.loc[:,\n",
    "                                                   [\"3Cone Perc\", \"Shuttle Perc\"]].apply(np.mean, axis=1)\n",
    "\n",
    "\n",
    "size_scores = pos_group_data[\"Size Score\"].dropna().to_numpy()\n",
    "speed_scores = pos_group_data[\"Speed Score\"].dropna().to_numpy()\n",
    "explosive_score = pos_group_data[\"Explosive Score\"].dropna().to_numpy()\n",
    "agility_score = pos_group_data[\"Agility Score\"].dropna().to_numpy()\n",
    "\n",
    "pos_group_data[\"Size Score\"] = pos_group_data[\"Size Score\"].map(\n",
    "    lambda x: stats.percentileofscore(size_scores, x))\n",
    "pos_group_data[\"Speed Score\"] = pos_group_data[\"Speed Score\"].map(\n",
    "    lambda x: stats.percentileofscore(speed_scores, x))\n",
    "pos_group_data[\"Explosive Score\"] = pos_group_data[\"Explosive Score\"].map(\n",
    "    lambda x: stats.percentileofscore(explosive_score, x))\n",
    "pos_group_data[\"Agility Score\"] = pos_group_data[\"Agility Score\"].map(\n",
    "    lambda x: stats.percentileofscore(agility_score, x))\n",
    "\n",
    "pos_group_data[\"Size Score\"] = pos_group_data[\"Size Score\"].round(2)\n",
    "pos_group_data[\"Speed Score\"] = pos_group_data[\"Speed Score\"].round(2)\n",
    "pos_group_data[\"Explosive Score\"] = pos_group_data[\"Explosive Score\"].round(2)\n",
    "pos_group_data[\"Agility Score\"] = pos_group_data[\"Agility Score\"].round(2)"
   ]
  },
  {
   "attachments": {},
   "cell_type": "markdown",
   "metadata": {},
   "source": [
    "Outputs the player's Size, Speed, Explosive, and Agility scores."
   ]
  },
  {
   "cell_type": "code",
   "execution_count": 28,
   "metadata": {},
   "outputs": [
    {
     "data": {
      "text/plain": [
       "Size Score          22.8\n",
       "Speed Score        91.49\n",
       "Explosive Score    72.55\n",
       "Agility Score      98.23\n",
       "Name: Odell Beckham Jr., dtype: object"
      ]
     },
     "execution_count": 28,
     "metadata": {},
     "output_type": "execute_result"
    }
   ],
   "source": [
    "player_scores = pos_group_data.loc[player_name,\n",
    "                                   \"Size Score\":\"Agility Score\"]\n",
    "player_scores"
   ]
  },
  {
   "attachments": {},
   "cell_type": "markdown",
   "metadata": {},
   "source": [
    "Calculate the Athletic Score."
   ]
  },
  {
   "cell_type": "code",
   "execution_count": 29,
   "metadata": {},
   "outputs": [],
   "source": [
    "pos_group_data[\"Athletic Score\"] = pos_group_data[[\"Size Score\", \"Speed Score\", \"Explosive Score\", \"Agility Score\"]].mean(axis=1)\n",
    "\n",
    "athletic_scores = pos_group_data[\"Athletic Score\"].dropna().to_numpy()\n",
    "\n",
    "pos_group_data[\"Athletic Score\"] = pos_group_data[\"Athletic Score\"].map(\n",
    "    lambda x: stats.percentileofscore(athletic_scores, x))\n",
    "pos_group_data[\"Athletic Score\"] = pos_group_data[\"Athletic Score\"].apply(\n",
    "    lambda x: 0 if pos_group_data.loc[player_name, \"40yd\":\"Shuttle\"].isna().sum() > 4 else x)\n",
    "\n",
    "pos_group_data[\"Athletic Score\"] = pos_group_data[\"Athletic Score\"].round(2)"
   ]
  },
  {
   "attachments": {},
   "cell_type": "markdown",
   "metadata": {},
   "source": [
    "Output the player's Athletic Score."
   ]
  },
  {
   "cell_type": "code",
   "execution_count": 30,
   "metadata": {},
   "outputs": [
    {
     "name": "stdout",
     "output_type": "stream",
     "text": [
      "Odell Beckham Jr. is a top 86.64% athlete at the WR position.\n"
     ]
    }
   ],
   "source": [
    "athletic_score = pos_group_data.loc[player_name, \"Athletic Score\"]\n",
    "print(f\"{player_name} is a top {athletic_score}% athlete at the {player_data['Pos']} position.\")"
   ]
  }
 ],
 "metadata": {
  "kernelspec": {
   "display_name": "studdysession",
   "language": "python",
   "name": "python3"
  },
  "language_info": {
   "codemirror_mode": {
    "name": "ipython",
    "version": 3
   },
   "file_extension": ".py",
   "mimetype": "text/x-python",
   "name": "python",
   "nbconvert_exporter": "python",
   "pygments_lexer": "ipython3",
   "version": "3.11.3"
  },
  "orig_nbformat": 4
 },
 "nbformat": 4,
 "nbformat_minor": 2
}
